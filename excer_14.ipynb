{
 "cells": [
  {
   "cell_type": "code",
   "execution_count": null,
   "metadata": {},
   "outputs": [],
   "source": [
    "\"\"\"Este é o conjunto de dados \"Iris\". Originalmente publicado no UCI Machine Learning Repository: Iris Data Set , este pequeno conjunto de dados de 1936 é frequentemente usado para testar algoritmos de aprendizado de máquina e visualizações (por exemplo, Scatter Plot ). Cada linha da tabela representa uma flor de íris, incluindo suas espécies e dimensões de suas partes botânicas, sépala e pétala, em centímetros.\n",
    "\n",
    "A página HTML fornece o código básico necessário para carregar os dados e exibi-los na página (como JSON) usando D3.js.\n",
    "\n",
    "Para um exemplo de código mais atualizado com React e D3, consulte (VizHub: Gráfico de dispersão estilizado)[ https://vizhub.com/curran/3d631093c2334030a6b27fa979bb4a0d?edit=files&file=index.js ].\"\"\""
   ]
  },
  {
   "cell_type": "code",
   "execution_count": null,
   "metadata": {},
   "outputs": [],
   "source": [
    "import pandas as pd\n",
    "\n",
    "# URL do dataset Iris em formato CSV\n",
    "url = 'https://archive.ics.uci.edu/ml/machine-learning-databases/iris/iris.data'\n",
    "\n",
    "# Carregar o dataset usando pandas\n",
    "df = pd.read_csv(url, header=None, names=['sepal_length', 'sepal_width', 'petal_length', 'petal_width', 'class'])\n",
    "\n",
    "# Exibir as primeiras linhas do dataframe\n",
    "print(df.head())"
   ]
  },
  {
   "cell_type": "markdown",
   "metadata": {},
   "source": []
  },
  {
   "cell_type": "code",
   "execution_count": null,
   "metadata": {},
   "outputs": [],
   "source": [
    "import pandas as pd\n",
    "import seaborn as sns\n",
    "import matplotlib.pyplot as plt\n",
    "\n",
    "# URL do dataset Iris em formato CSV\n",
    "url = 'https://archive.ics.uci.edu/ml/machine-learning-databases/iris/iris.data'\n",
    "\n",
    "# Carregar o dataset usando pandas\n",
    "df = pd.read_csv(url, header=None, names=['sepal_length', 'sepal_width', 'petal_length', 'petal_width', 'class'])\n",
    "\n",
    "# Criar o gráfico de dispersão usando seaborn\n",
    "plt.figure(figsize=(8, 6))\n",
    "sns.scatterplot(x='sepal_length', y='sepal_width', hue='class', data=df, palette='Set1', s=100)\n",
    "\n",
    "# Configurar o gráfico\n",
    "plt.xlabel('Comprimento da Sépala (cm)')\n",
    "plt.ylabel('Largura da Sépala (cm)')\n",
    "plt.title('Gráfico de Dispersão: Comprimento vs Largura da Sépala')\n",
    "plt.show()"
   ]
  },
  {
   "cell_type": "markdown",
   "metadata": {},
   "source": [
    "\"O gráfico gerado pelo código é um gráfico de dispersão (scatter plot) que representa a relação entre o comprimento e a largura da sépala de três diferentes espécies de íris (Iris setosa, Iris versicolor, e Iris virginica) do conjunto de dados \"Iris\".\n",
    "\n",
    "\"Eixos do Gráfico\n",
    "Eixo X (sepal_length): Representa o comprimento da sépala em centímetros.\n",
    "Eixo Y (sepal_width): Representa a largura da sépala em centímetros.\n",
    "Cada ponto no gráfico representa uma amostra de uma flor de íris, com sua posição determinada pelos valores de comprimento e largura da sépala.\"\n",
    "\n",
    "\"Análise do Gráfico\n",
    "Distribuição por Espécie:\n",
    "\n",
    "O gráfico mostra pontos agrupados por espécies. Como há três espécies no dataset (Iris setosa, Iris versicolor e Iris virginica), cada conjunto de pontos corresponde a uma espécie diferente, indicada por uma cor distinta.\n",
    "A legenda do gráfico (plt.legend()) ajuda a identificar qual cor representa qual espécie.\n",
    "Diferenças Notáveis entre as Espécies:\n",
    "\n",
    "Iris Setosa: Normalmente aparece como um grupo de pontos bem definido e separado, com sépalas mais curtas e mais largas comparadas às outras duas espécies. No gráfico, este grupo tende a ficar em uma região distinta.\n",
    "Iris Versicolor e Iris Virginica: Estas duas espécies geralmente se sobrepõem mais no gráfico. Ambas têm sépalas mais longas e finas do que a Iris setosa, mas a Iris virginica tende a ter sépalas ligeiramente mais longas em média do que a Iris versicolor.\n",
    "Observação sobre Separação de Espécies:\n",
    "\n",
    "O gráfico demonstra que a Iris setosa pode ser facilmente distinguida das outras duas espécies com base no comprimento e largura da sépala.\n",
    "No entanto, as espécies Iris versicolor e Iris virginica são mais difíceis de separar apenas com essas duas características (sepal length e sepal width). Eles se sobrepõem significativamente, o que significa que seriam necessárias outras características (como comprimento e largura da pétala) ou métodos de classificação mais complexos para distingui-las corretamente.\n",
    "Conclusão\n",
    "O gráfico de dispersão é útil para:\n",
    "\n",
    "Visualizar a separação entre as espécies de íris com base nas características botânicas (dimensões das sépalas).\n",
    "Identificar padrões e agrupamentos naturais nos dados.\n",
    "Ajudar em análises iniciais de dados, sugerindo que enquanto a Iris setosa é facilmente separável das outras espécies, a Iris versicolor e a Iris virginica não são tão claramente distintas com base apenas nas dimensões da sépala.\n",
    "Essa análise pode ser útil para treinar algoritmos de aprendizado de máquina, ajudando a identificar quais características são mais discriminantes para classificar diferentes espécies de flores.\""
   ]
  },
  {
   "cell_type": "code",
   "execution_count": null,
   "metadata": {},
   "outputs": [],
   "source": [
    "import pandas as pd\n",
    "import matplotlib.pyplot as plt\n",
    "\n",
    "# URL do dataset Iris em formato CSV\n",
    "url = 'https://archive.ics.uci.edu/ml/machine-learning-databases/iris/iris.data'\n",
    "\n",
    "# Carregar o dataset usando pandas\n",
    "df = pd.read_csv(url, header=None, names=['sepal_length', 'sepal_width', 'petal_length', 'petal_width', 'class'])\n",
    "\n",
    "# Criar o gráfico de dispersão\n",
    "plt.figure(figsize=(8, 6))\n",
    "for species in df['class'].unique():\n",
    "    subset = df[df['class'] == species]\n",
    "    plt.scatter(subset['sepal_length'], subset['sepal_width'], label=species)\n",
    "\n",
    "# Configurar o gráfico\n",
    "plt.xlabel('Comprimento da Sépala (cm)')\n",
    "plt.ylabel('Largura da Sépala (cm)')\n",
    "plt.title('Gráfico de Dispersão: Comprimento vs Largura da Sépala')\n",
    "plt.legend(title='Espécie')\n",
    "plt.show()"
   ]
  }
 ],
 "metadata": {
  "kernelspec": {
   "display_name": ".venv",
   "language": "python",
   "name": "python3"
  },
  "language_info": {
   "codemirror_mode": {
    "name": "ipython",
    "version": 3
   },
   "file_extension": ".py",
   "mimetype": "text/x-python",
   "name": "python",
   "nbconvert_exporter": "python",
   "pygments_lexer": "ipython3",
   "version": "3.12.5"
  }
 },
 "nbformat": 4,
 "nbformat_minor": 2
}
